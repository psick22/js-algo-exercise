{
 "cells": [
  {
   "cell_type": "code",
   "execution_count": 3,
   "metadata": {},
   "outputs": [
    {
     "data": {
      "text/plain": "[100, 200, 300]"
     },
     "execution_count": 3,
     "metadata": {},
     "output_type": "execute_result"
    }
   ],
   "source": [
    "\n",
    "nums = [100, 200, 300, 400, 500]\n",
    "\n",
    "nums.pop()\n",
    "nums.pop()\n",
    "\n",
    "nums"
   ]
  },
  {
   "cell_type": "code",
   "execution_count": 5,
   "metadata": {},
   "outputs": [
    {
     "data": {
      "text/plain": "[200, 100, 10000, 300]"
     },
     "execution_count": 5,
     "metadata": {},
     "output_type": "execute_result"
    }
   ],
   "source": [
    "l = [200, 100, 300]\n",
    "\n",
    "arr.insert(2, 10000)\n",
    "\n",
    "arr\n"
   ]
  },
  {
   "cell_type": "code",
   "execution_count": 9,
   "metadata": {},
   "outputs": [
    {
     "data": {
      "text/plain": "(list, int, str, tuple)"
     },
     "execution_count": 9,
     "metadata": {},
     "output_type": "execute_result"
    }
   ],
   "source": [
    "arr = [100, 200, 300]\n",
    "num = 1\n",
    "str = 'string'\n",
    "tuple = (tuple, 1)\n",
    "\n",
    "type(arr), type(num), type(str), type(tuple)"
   ]
  },
  {
   "cell_type": "code",
   "execution_count": 12,
   "metadata": {},
   "outputs": [
    {
     "name": "stdout",
     "output_type": "stream",
     "text": [
      "<class 'int'> <class 'float'> <class 'str'> <class 'list'>\n"
     ]
    }
   ],
   "source": [
    "a = 1\n",
    "b = 2.22\n",
    "c = 'p'\n",
    "d = [1, 2, 3]\n",
    "\n",
    "\n",
    "print(type(a), type(b), type(c), type(d))\n"
   ]
  },
  {
   "cell_type": "code",
   "execution_count": 18,
   "metadata": {},
   "outputs": [
    {
     "data": {
      "text/plain": "(55, 57)"
     },
     "execution_count": 18,
     "metadata": {},
     "output_type": "execute_result"
    }
   ],
   "source": [
    "a = 10\n",
    "b = 2 \n",
    "\n",
    "for i in range(a):\n",
    "    a += i\n",
    "    \n",
    "a, a+b"
   ]
  },
  {
   "cell_type": "code",
   "execution_count": 36,
   "metadata": {},
   "outputs": [
    {
     "data": {
      "text/plain": "(84, 78)"
     },
     "execution_count": 36,
     "metadata": {},
     "output_type": "execute_result"
    }
   ],
   "source": [
    "#8\n",
    "d = {'height':180,'weight':78,'weight':84,'temparture':36,'eyesight':1}\n",
    "d2 = {'height':180,'weight':84,'weight':78,'temparture':36,'eyesight':1}\n",
    "\n",
    "d['weight'], d2['weight'] # 딕셔너리에서 키이름 중복되면 뒤의 값으로 인정\n"
   ]
  },
  {
   "cell_type": "code",
   "execution_count": 54,
   "metadata": {},
   "outputs": [
    {
     "name": "stdout",
     "output_type": "stream",
     "text": [
      "2019/04/26\n",
      "11:34:27\n"
     ]
    }
   ],
   "source": [
    "year = '2019'\n",
    "month = '04'\n",
    "day = '26'\n",
    "hour = '11'\n",
    "minute = '34'\n",
    "second = '27'\n",
    "\n",
    "print(year,month, day, sep='/', end='\\n')\n",
    "print(hour, minute, second,sep =':' )"
   ]
  },
  {
   "cell_type": "code",
   "execution_count": 60,
   "metadata": {},
   "outputs": [
    {
     "data": {
      "text/plain": "5050"
     },
     "execution_count": 60,
     "metadata": {},
     "output_type": "execute_result"
    }
   ],
   "source": [
    "s = 0\n",
    "\n",
    "for i in range(1, 101):\n",
    "    s += i\n",
    "    \n",
    "s\n",
    "    "
   ]
  },
  {
   "cell_type": "code",
   "execution_count": 70,
   "metadata": {},
   "outputs": [
    {
     "data": {
      "text/plain": "(range(0, 10), [0, 1, 2, 3, 4, 5, 6, 7, 8, 9])"
     },
     "execution_count": 70,
     "metadata": {},
     "output_type": "execute_result"
    }
   ],
   "source": [
    "range(10), list(range(10))"
   ]
  },
  {
   "cell_type": "code",
   "execution_count": 72,
   "metadata": {},
   "outputs": [
    {
     "data": {
      "text/plain": "(range, list)"
     },
     "execution_count": 72,
     "metadata": {},
     "output_type": "execute_result"
    }
   ],
   "source": [
    "type(range(10)), type(list(range(10)))"
   ]
  },
  {
   "cell_type": "code",
   "execution_count": 77,
   "metadata": {},
   "outputs": [
    {
     "data": {
      "text/plain": "[10, 9, 8, 7, 6]"
     },
     "execution_count": 77,
     "metadata": {},
     "output_type": "execute_result"
    }
   ],
   "source": [
    "list(range(10, 5, -1))"
   ]
  },
  {
   "cell_type": "code",
   "execution_count": 68,
   "metadata": {},
   "outputs": [
    {
     "name": "stdout",
     "output_type": "stream",
     "text": [
      "init class Wizard\n",
      "545 210 10\n",
      "파이어볼\n"
     ]
    }
   ],
   "source": [
    "# 클래스\n",
    "\n",
    "class Wizard:\n",
    "    # 생성자\n",
    "    def __init__(self, health, mana, armor):\n",
    "        print('init class Wizard')\n",
    "        self.health = health\n",
    "        self.mana = mana\n",
    "        self.armor = armor\n",
    "    # 메소드\n",
    "    def attack(self):\n",
    "        print('파이어볼')\n",
    "    \n",
    "\n",
    "x = Wizard(health = 545, mana = 210, armor = 10)\n",
    "print(x.health, x.mana, x.armor)\n",
    "x.attack()\n"
   ]
  },
  {
   "cell_type": "code",
   "execution_count": 1,
   "metadata": {},
   "outputs": [
    {
     "name": "stdout",
     "output_type": "stream",
     "text": [
      "수성\n"
     ]
    }
   ],
   "source": [
    "#13\n",
    "\n",
    "solar = ['수성', '금성', '지구', '화성', '목성', '토성', '천왕성', '해왕성']\n",
    "\n",
    "n = int(input('숫자를 입력하세요 : '))\n",
    "\n",
    "print(solar[n-1])"
   ]
  },
  {
   "cell_type": "code",
   "execution_count": 4,
   "metadata": {},
   "outputs": [
    {
     "name": "stdout",
     "output_type": "stream",
     "text": [
      "짝\n"
     ]
    }
   ],
   "source": [
    "#14\n",
    "\n",
    "n = int(input('숫자를 입력하세요 : '))\n",
    "\n",
    "if n%3 == 0:\n",
    "    print('짝')\n",
    "else:\n",
    "    print(n)\n"
   ]
  },
  {
   "cell_type": "code",
   "execution_count": 14,
   "metadata": {},
   "outputs": [
    {
     "name": "stdout",
     "output_type": "stream",
     "text": [
      "안녕하세요 저는 권기록 입니다\n",
      "안녕하세요 저는 권기록 입니다\n",
      "안녕하세요 저는 권기록 입니다\n"
     ]
    }
   ],
   "source": [
    "#15 f-string\n",
    "\n",
    "name = input('이름을 입력하세요: ')\n",
    "\n",
    "print(f'안녕하세요 저는 {name} 입니다')\n",
    "print('안녕하세요 저는 {} 입니다'.format(name))\n",
    "print('안녕하세요 저는 %s 입니다' % name)\n"
   ]
  },
  {
   "cell_type": "code",
   "execution_count": 46,
   "metadata": {},
   "outputs": [
    {
     "name": "stdout",
     "output_type": "stream",
     "text": [
      "로꾸거\n"
     ]
    }
   ],
   "source": [
    "#16 \n",
    "\n",
    "# string = input('문장을 입력하세요 : ')\n",
    "\n",
    "s = '거꾸로'\n",
    "\n",
    "reverse= ''\n",
    "\n",
    "for i in s:\n",
    "    reverse = i + reverse\n",
    "    \n",
    "print(reverse)\n"
   ]
  },
  {
   "cell_type": "code",
   "execution_count": 47,
   "metadata": {},
   "outputs": [
    {
     "name": "stdout",
     "output_type": "stream",
     "text": [
      "로꾸거\n"
     ]
    }
   ],
   "source": [
    "#16\n",
    "\n",
    "s = '거꾸로'\n",
    "\n",
    "print(s[::-1])\n"
   ]
  },
  {
   "cell_type": "code",
   "execution_count": 2,
   "metadata": {},
   "outputs": [
    {
     "name": "stdout",
     "output_type": "stream",
     "text": [
      "NO\n"
     ]
    }
   ],
   "source": [
    "#17\n",
    "\n",
    "h = int(input('키?'))\n",
    "if h >= 150:\n",
    "    print('YES')\n",
    "else:\n",
    "    print('NO')\n",
    "    "
   ]
  },
  {
   "cell_type": "code",
   "execution_count": 25,
   "metadata": {},
   "outputs": [
    {
     "name": "stdout",
     "output_type": "stream",
     "text": [
      "['20', '30', '40']\n",
      "30.0\n"
     ]
    }
   ],
   "source": [
    "#18\n",
    "a = input('국어, 수학, 영어 : ').split(' ')\n",
    "avg = 0\n",
    "print(a)\n",
    "\n",
    "for i in a:\n",
    "    avg += int(i)\n",
    "    \n",
    "avg = avg/len(a)\n",
    "\n",
    "\n",
    "print(avg)"
   ]
  },
  {
   "cell_type": "code",
   "execution_count": 41,
   "metadata": {},
   "outputs": [
    {
     "name": "stdout",
     "output_type": "stream",
     "text": [
      "32\n"
     ]
    }
   ],
   "source": [
    "#19\n",
    "\n",
    "a, b = map(int, input().split())\n",
    "\n",
    "print(a**b)\n"
   ]
  },
  {
   "cell_type": "code",
   "execution_count": 44,
   "metadata": {},
   "outputs": [
    {
     "name": "stdout",
     "output_type": "stream",
     "text": [
      "5 0\n"
     ]
    }
   ],
   "source": [
    "a, b = map(int, input().split(' '))\n",
    "\n",
    "print(a//b, a%b)"
   ]
  },
  {
   "cell_type": "code",
   "execution_count": 56,
   "metadata": {},
   "outputs": [
    {
     "name": "stdout",
     "output_type": "stream",
     "text": [
      "<class 'set'> <class 'dict'> <class 'set'> <class 'set'> <class 'set'>\n"
     ]
    }
   ],
   "source": [
    "#21\n",
    "\n",
    "# set 은 순서가 없고 중복 허용 X\n",
    "\n",
    "set1 = {1, 2,3 ,4, 5}\n",
    "set2 = {} # dictionary\n",
    "set3 = set('python')\n",
    "set4 = set(range(5))\n",
    "\n",
    "print(type(set1), type(set2), type(set3), type(set4), type(set5))"
   ]
  },
  {
   "cell_type": "code",
   "execution_count": 62,
   "metadata": {},
   "outputs": [
    {
     "data": {
      "text/plain": "(False, True, False, False, False)"
     },
     "execution_count": 62,
     "metadata": {},
     "output_type": "execute_result"
    }
   ],
   "source": [
    "i=36\n",
    "\n",
    "i/6 ==0, i%6==0, i & 6 ==0, i|6==0, i//6 ==0\n",
    "\n",
    "\n"
   ]
  },
  {
   "cell_type": "code",
   "execution_count": 63,
   "metadata": {},
   "outputs": [
    {
     "name": "stdout",
     "output_type": "stream",
     "text": [
      "5.0\n"
     ]
    }
   ],
   "source": [
    "print(10/2)"
   ]
  },
  {
   "cell_type": "code",
   "execution_count": 69,
   "metadata": {},
   "outputs": [
    {
     "data": {
      "text/plain": "('ABC ABC ABC', 'abc abc abc', 'Abc abc abc', 'aBC abc AbC')"
     },
     "execution_count": 69,
     "metadata": {},
     "output_type": "execute_result"
    }
   ],
   "source": [
    "s = 'aBC abc AbC'\n",
    "\n",
    "# 기존 문자열을 변경하지 않는다\n",
    "s.upper(), s.lower(), s.capitalize(), s\n",
    "\n"
   ]
  },
  {
   "cell_type": "code",
   "execution_count": 71,
   "metadata": {},
   "outputs": [
    {
     "name": "stdout",
     "output_type": "stream",
     "text": [
      "153.86\n"
     ]
    }
   ],
   "source": [
    "r = int(input('정수 반지름을 입력하세요 : '))\n",
    "\n",
    "print(3.14 * r **2)"
   ]
  },
  {
   "cell_type": "code",
   "execution_count": 83,
   "metadata": {},
   "outputs": [
    {
     "data": {
      "text/plain": "'Earth'"
     },
     "execution_count": 83,
     "metadata": {},
     "output_type": "execute_result"
    }
   ],
   "source": [
    "solar = {'수성':'Mercury', '금성':'Venus', '지구':'Earth', '화성':'Mars', '목성':'Jupyter', '토성':'Saturn', '천왕성':'Uranus', '해왕성':'Neptune'}\n",
    "\n",
    "s = input('행성 이름을 입력하세요:')\n",
    "\n",
    "solar[s] "
   ]
  },
  {
   "cell_type": "code",
   "execution_count": 5,
   "metadata": {},
   "outputs": [
    {
     "name": "stdout",
     "output_type": "stream",
     "text": [
      "{'jksdf': 123, 'sdjkfl': 2}\n"
     ]
    }
   ],
   "source": [
    "# map(콜백함수, 리스트)\n",
    "student1, student2 = map(str, input(\"학생의 이름을 입력하세요 : \").split(\" \"))\n",
    "score1, score2 = map(int, input(\"학생의 점수를 입력하세요 : \").split(\" \"))\n",
    "\n",
    "print({student1: score1, student2: score2})"
   ]
  },
  {
   "cell_type": "code",
   "execution_count": 16,
   "metadata": {},
   "outputs": [
    {
     "name": "stdout",
     "output_type": "stream",
     "text": [
      "py\n",
      "yt\n",
      "th\n",
      "ho\n",
      "on\n"
     ]
    }
   ],
   "source": [
    "# 28\n",
    "s = input('문자열 입력 : ')\n",
    "\n",
    "for i in range(len(s)-1):\n",
    "    print(s[i:i+2])"
   ]
  },
  {
   "cell_type": "code",
   "execution_count": 23,
   "metadata": {},
   "outputs": [
    {
     "name": "stdout",
     "output_type": "stream",
     "text": [
      "YES\n"
     ]
    }
   ],
   "source": [
    "# 29 \n",
    "s = input()\n",
    "\n",
    "if ord(s)<=90:\n",
    "    print('YES')\n",
    "else:\n",
    "    print(\"NO\")\n"
   ]
  },
  {
   "cell_type": "code",
   "execution_count": 27,
   "metadata": {},
   "outputs": [
    {
     "name": "stdout",
     "output_type": "stream",
     "text": [
      "4\n"
     ]
    }
   ],
   "source": [
    "# 30\n",
    "\n",
    "s = input('문자열 : ')\n",
    "target = input('찾을 문자 : ')\n",
    "\n",
    "# s= 'pineapple'\n",
    "# target = 'apple'\n",
    "\n",
    "idx = s.find(target)\n",
    "\n",
    "if idx != -1:\n",
    "    print(idx)\n",
    "else:\n",
    "    print('없음')\n",
    "\n",
    "\n"
   ]
  },
  {
   "cell_type": "code",
   "execution_count": null,
   "metadata": {},
   "outputs": [],
   "source": [
    "# 31 - 리스트 내장함수의 시간 복잡도\n",
    "l = [1,2,3,4]\n",
    "\n",
    "# l[i] -> O(1)\n",
    "# l.append(5) -> O(1)\n",
    "# l[a:b] -> O(b-a)\n",
    "# l.pop() -> O(1)\n",
    "# l.clear() -> O(1)"
   ]
  },
  {
   "cell_type": "code",
   "execution_count": 46,
   "metadata": {},
   "outputs": [
    {
     "name": "stdout",
     "output_type": "stream",
     "text": [
      "9\n"
     ]
    }
   ],
   "source": [
    "# 32\n",
    "s = '저 넓은 세상을 네 눈앞에 그려봐 네 진심을 느껴봐'\n",
    "\n",
    "count = len(s.split())\n",
    "\n",
    "print(count)"
   ]
  },
  {
   "cell_type": "code",
   "execution_count": 53,
   "metadata": {},
   "outputs": [
    {
     "name": "stdout",
     "output_type": "stream",
     "text": [
      "5 4 3 2 1\n"
     ]
    }
   ],
   "source": [
    "# 33\n",
    "l = input().split()\n",
    "\n",
    "\n",
    "l.reverse()\n",
    "l =' '.join(l)\n",
    "print(l)\n"
   ]
  },
  {
   "cell_type": "code",
   "execution_count": 59,
   "metadata": {},
   "outputs": [
    {
     "name": "stdout",
     "output_type": "stream",
     "text": [
      "Yes\n"
     ]
    }
   ],
   "source": [
    "# 34\n",
    "\n",
    "l = input().split()\n",
    "l = [int(i) for i in l]\n",
    "if l != sorted(l):\n",
    "    print('No')\n",
    "else:\n",
    "    print('Yes')"
   ]
  },
  {
   "cell_type": "code",
   "execution_count": 60,
   "metadata": {},
   "outputs": [
    {
     "name": "stdout",
     "output_type": "stream",
     "text": [
      "100\n",
      "1000\n",
      "10000\n"
     ]
    }
   ],
   "source": [
    "# 35\n",
    "\n",
    "def one(n):\n",
    "    def two(value):\n",
    "        return value ** n\n",
    "    return two\n",
    "\n",
    "a = one(2)\n",
    "b = one(3)\n",
    "c = one(4)\n",
    "\n",
    "print(a(10))\n",
    "print(b(10))\n",
    "print(c(10))\n"
   ]
  },
  {
   "cell_type": "code",
   "execution_count": 67,
   "metadata": {},
   "outputs": [
    {
     "name": "stdout",
     "output_type": "stream",
     "text": [
      "2 4 6 8 10 12 14 16 18 "
     ]
    }
   ],
   "source": [
    "a = int(input())\n",
    "for i in range(1, 10):\n",
    "    print(i*a, end=' ')"
   ]
  },
  {
   "cell_type": "code",
   "execution_count": 87,
   "metadata": {},
   "outputs": [
    {
     "data": {
      "text/plain": "'은비'"
     },
     "execution_count": 87,
     "metadata": {},
     "output_type": "execute_result"
    }
   ],
   "source": [
    "input = '원영 원영 은비 은비 은비 은비 채연 채연'\n",
    "\n",
    "l = input.split()\n",
    "hashMap = {}\n",
    "\n",
    "for i in l:\n",
    "    if i in hashMap:\n",
    "        hashMap[i] += 1\n",
    "    else:\n",
    "        hashMap[i] = 1\n",
    "        \n",
    "max_key = max(hashMap, key=lambda k: hashMap[k])\n",
    "\n",
    "max_key"
   ]
  },
  {
   "cell_type": "code",
   "execution_count": 115,
   "metadata": {},
   "outputs": [
    {
     "name": "stdout",
     "output_type": "stream",
     "text": [
      "<class 'dict'>\n",
      "['__class__', '__class_getitem__', '__contains__', '__delattr__', '__delitem__', '__dir__', '__doc__', '__eq__', '__format__', '__ge__', '__getattribute__', '__getitem__', '__gt__', '__hash__', '__init__', '__init_subclass__', '__ior__', '__iter__', '__le__', '__len__', '__lt__', '__ne__', '__new__', '__or__', '__reduce__', '__reduce_ex__', '__repr__', '__reversed__', '__ror__', '__setattr__', '__setitem__', '__sizeof__', '__str__', '__subclasshook__', 'clear', 'copy', 'fromkeys', 'get', 'items', 'keys', 'pop', 'popitem', 'setdefault', 'update', 'values']\n"
     ]
    }
   ],
   "source": [
    "obj = { 1:'a', 2:'b', 3:'c'}\n",
    "\n",
    "print(type(obj))\n",
    "print(dir(obj))\n"
   ]
  },
  {
   "cell_type": "code",
   "execution_count": 109,
   "metadata": {},
   "outputs": [
    {
     "name": "stdout",
     "output_type": "stream",
     "text": [
      "dict_items([(1, 'a'), (2, 'b'), (3, 'c')])\n",
      "dict_keys([1, 2, 3])\n",
      "dict_values(['a', 'b', 'c'])\n",
      "{1: 'a', 2: 'b', 3: 'c', 4: 'd'}\n",
      "{2: 'b', 3: 'c', 4: 'd'}\n",
      "not found\n"
     ]
    }
   ],
   "source": [
    "obj = { 1:'a', 2:'b', 3:'c'}\n",
    "\n",
    "print(obj.items())\n",
    "print(obj.keys())\n",
    "print(obj.values())\n",
    "\n",
    "obj[4]='d'\n",
    "\n",
    "print(obj)\n",
    "\n",
    "obj.pop(1) # key를 인자로 전달해서 해당 key value를 추출 (기존 딕셔너리 변형)\n",
    "\n",
    "print(obj)\n",
    "\n",
    "obj.update({4:'dd'})\n",
    "obj\n",
    "\n",
    "obj.update({5: 'e'})\n",
    "\n",
    "obj.get(2) # key를 전달해서 value를 읽어옴 (기존 딕셔너리에는 변형 X), 두번째 인자로 예외 처리 문을 넣음\n",
    "print(obj.get(6, 'not found'))\n",
    "\n"
   ]
  },
  {
   "cell_type": "code",
   "execution_count": 113,
   "metadata": {},
   "outputs": [
    {
     "name": "stdout",
     "output_type": "stream",
     "text": [
      "[100, 200, 300, 400]\n",
      "<class 'list'>\n",
      "['__add__', '__class__', '__class_getitem__', '__contains__', '__delattr__', '__delitem__', '__dir__', '__doc__', '__eq__', '__format__', '__ge__', '__getattribute__', '__getitem__', '__gt__', '__hash__', '__iadd__', '__imul__', '__init__', '__init_subclass__', '__iter__', '__le__', '__len__', '__lt__', '__mul__', '__ne__', '__new__', '__reduce__', '__reduce_ex__', '__repr__', '__reversed__', '__rmul__', '__setattr__', '__setitem__', '__sizeof__', '__str__', '__subclasshook__', 'append', 'clear', 'copy', 'count', 'extend', 'index', 'insert', 'pop', 'remove', 'reverse', 'sort']\n"
     ]
    }
   ],
   "source": [
    "list = [100, 200, 300, 400]\n",
    "print(list)\n",
    "print(type(list))\n",
    "print(dir(list))"
   ]
  },
  {
   "cell_type": "code",
   "execution_count": 3,
   "metadata": {},
   "outputs": [
    {
     "name": "stdout",
     "output_type": "stream",
     "text": [
      "[100, 200, 300, 400, 500]\n",
      "[]\n",
      "[100, 200, 300, 400] [100, 200, 300, 400] [100, 200, 300, 400]\n",
      "4345718080 4345718336 4345718080\n",
      "True True\n"
     ]
    }
   ],
   "source": [
    "# 리스트\n",
    "list = [100, 200, 300, 400]\n",
    "\n",
    "list.append(500)\n",
    "print(list)\n",
    "\n",
    "list.clear()\n",
    "print(list)\n",
    "\n",
    "list = [100, 200, 300, 400]\n",
    "list2 = list.copy()\n",
    "list3 = list\n",
    "\n",
    "print(list, list2, list3)\n",
    "print(id(list), id(list2), id(list3))\n",
    "print(list == list2, list == list3 )\n",
    "\n",
    "\n"
   ]
  },
  {
   "cell_type": "code",
   "execution_count": 69,
   "metadata": {},
   "outputs": [
    {
     "name": "stdout",
     "output_type": "stream",
     "text": [
      "[1, 2, 3, 4, 5]\n",
      "[1, 2, 3, 4, 5, 6, 7, 8, 9, 10]\n",
      "[1, 3, 5, 7, 9]\n",
      "[6, 8, 10]\n",
      "[1, 4, 7, 10]\n",
      "[1, 2, 3, 4, 5, 6, 7, 8, 9, 10, 1, 2, 3, 4, 5, 6, 7, 8, 9, 10]\n",
      "[1, 2, 3, 4, 5, 6, 7, 8, 9, 10, 1, 2, 3, 4, 5, 6, 7, 8, 9, 10, 1, 2, 3, 4, 5, 6, 7, 8, 9, 10]\n",
      "[2, 3, 4, 5, 6, 7, 8, 9, 10]\n",
      "[2, 3, 4, 5, 6, 7, 8, 9, 10, 11, 12, 13]\n",
      "10\n",
      "[2, 3, 4, 999, 5, 6, 7, 8, 9, 10, 11, 12, 13]\n",
      "pop [2, 3, 4, 999, 5, 6, 7, 8, 9, 10, 11, 12]\n",
      "pop index 3 [2, 3, 4, 5, 6, 7, 8, 9, 10, 11, 12]\n",
      "remove value 10 [2, 3, 4, 5, 6, 7, 8, 9, 11, 12]\n",
      "reverse [12, 11, 9, 8, 7, 6, 5, 4, 3, 2]\n",
      "sort [2, 3, 4, 5, 6, 7, 8, 9, 11, 12]\n",
      "sort reverse [12, 11, 9, 8, 7, 6, 5, 4, 3, 2]\n"
     ]
    }
   ],
   "source": [
    "list = [1, 2,3 ,4, 5,6, 7, 8, 9, 10]\n",
    "\n",
    "# list[start:stop:step] -> slicing\n",
    "\n",
    "print(list[0:5]) # 인덱스 0~4까지 slicing\n",
    "print(list[0::]) # 인덱스 0부터 끝까지 slicing\n",
    "print(list[::2])\n",
    "print(list[5::2]) # 인덱스 5부터 끝까지 2개씩 건너뛰어가며 slicing \n",
    "print(list[::3])\n",
    "print(list+list) \n",
    "print(list * 3)\n",
    "list[0:1] = []\n",
    "print(list)\n",
    "list.extend([11, 12, 13])\n",
    "print(list)\n",
    "print(list.index(12))\n",
    "list.insert(3, 999) # index, value\n",
    "print(list)\n",
    "list.pop() # 인자를 전달하지 않으면 마지막 요소 삭제\n",
    "print('pop',list)\n",
    "list.pop(3) # 인자로 인덱스를 전달하면 해당 인덱스 요소 삭제\n",
    "print('pop index 3',list)\n",
    "list.remove(10) # 인자로 value를 전달하면 처음만나는 value를 찾아서 삭제\n",
    "print('remove value 10',list)\n",
    "list.reverse()\n",
    "print('reverse',list)\n",
    "list.sort()\n",
    "print('sort',list)\n",
    "list.sort(reverse=True)\n",
    "print('sort reverse',list)"
   ]
  }
 ],
 "metadata": {
  "kernelspec": {
   "display_name": "Python 3",
   "language": "python",
   "name": "python3"
  },
  "language_info": {
   "codemirror_mode": {
    "name": "ipython",
    "version": 3
   },
   "file_extension": ".py",
   "mimetype": "text/x-python",
   "name": "python",
   "nbconvert_exporter": "python",
   "pygments_lexer": "ipython3",
   "version": "3.9.1"
  },
  "orig_nbformat": 2
 },
 "nbformat": 4,
 "nbformat_minor": 2
}