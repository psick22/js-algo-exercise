{
 "cells": [
  {
   "cell_type": "code",
   "execution_count": 3,
   "metadata": {},
   "outputs": [
    {
     "data": {
      "text/plain": "[100, 200, 300]"
     },
     "execution_count": 3,
     "metadata": {},
     "output_type": "execute_result"
    }
   ],
   "source": [
    "\n",
    "nums = [100, 200, 300, 400, 500]\n",
    "\n",
    "nums.pop()\n",
    "nums.pop()\n",
    "\n",
    "nums"
   ]
  },
  {
   "cell_type": "code",
   "execution_count": 5,
   "metadata": {},
   "outputs": [
    {
     "data": {
      "text/plain": "[200, 100, 10000, 300]"
     },
     "execution_count": 5,
     "metadata": {},
     "output_type": "execute_result"
    }
   ],
   "source": [
    "l = [200, 100, 300]\n",
    "\n",
    "arr.insert(2, 10000)\n",
    "\n",
    "arr\n"
   ]
  },
  {
   "cell_type": "code",
   "execution_count": 9,
   "metadata": {},
   "outputs": [
    {
     "data": {
      "text/plain": "(list, int, str, tuple)"
     },
     "execution_count": 9,
     "metadata": {},
     "output_type": "execute_result"
    }
   ],
   "source": [
    "arr = [100, 200, 300]\n",
    "num = 1\n",
    "str = 'string'\n",
    "tuple = (tuple, 1)\n",
    "\n",
    "type(arr), type(num), type(str), type(tuple)"
   ]
  },
  {
   "cell_type": "code",
   "execution_count": 12,
   "metadata": {},
   "outputs": [
    {
     "name": "stdout",
     "output_type": "stream",
     "text": [
      "<class 'int'> <class 'float'> <class 'str'> <class 'list'>\n"
     ]
    }
   ],
   "source": [
    "a = 1\n",
    "b = 2.22\n",
    "c = 'p'\n",
    "d = [1, 2, 3]\n",
    "\n",
    "\n",
    "print(type(a), type(b), type(c), type(d))\n"
   ]
  },
  {
   "cell_type": "code",
   "execution_count": 18,
   "metadata": {},
   "outputs": [
    {
     "data": {
      "text/plain": "(55, 57)"
     },
     "execution_count": 18,
     "metadata": {},
     "output_type": "execute_result"
    }
   ],
   "source": [
    "a = 10\n",
    "b = 2 \n",
    "\n",
    "for i in range(a):\n",
    "    a += i\n",
    "    \n",
    "a, a+b"
   ]
  },
  {
   "cell_type": "code",
   "execution_count": 36,
   "metadata": {},
   "outputs": [
    {
     "data": {
      "text/plain": "(84, 78)"
     },
     "execution_count": 36,
     "metadata": {},
     "output_type": "execute_result"
    }
   ],
   "source": [
    "#8\n",
    "d = {'height':180,'weight':78,'weight':84,'temparture':36,'eyesight':1}\n",
    "d2 = {'height':180,'weight':84,'weight':78,'temparture':36,'eyesight':1}\n",
    "\n",
    "d['weight'], d2['weight'] # 딕셔너리에서 키이름 중복되면 뒤의 값으로 인정\n"
   ]
  },
  {
   "cell_type": "code",
   "execution_count": 54,
   "metadata": {},
   "outputs": [
    {
     "name": "stdout",
     "output_type": "stream",
     "text": [
      "2019/04/26\n",
      "11:34:27\n"
     ]
    }
   ],
   "source": [
    "year = '2019'\n",
    "month = '04'\n",
    "day = '26'\n",
    "hour = '11'\n",
    "minute = '34'\n",
    "second = '27'\n",
    "\n",
    "print(year,month, day, sep='/', end='\\n')\n",
    "print(hour, minute, second,sep =':' )"
   ]
  },
  {
   "cell_type": "code",
   "execution_count": 60,
   "metadata": {},
   "outputs": [
    {
     "data": {
      "text/plain": "5050"
     },
     "execution_count": 60,
     "metadata": {},
     "output_type": "execute_result"
    }
   ],
   "source": [
    "s = 0\n",
    "\n",
    "for i in range(1, 101):\n",
    "    s += i\n",
    "    \n",
    "s\n",
    "    "
   ]
  },
  {
   "cell_type": "code",
   "execution_count": 70,
   "metadata": {},
   "outputs": [
    {
     "data": {
      "text/plain": "(range(0, 10), [0, 1, 2, 3, 4, 5, 6, 7, 8, 9])"
     },
     "execution_count": 70,
     "metadata": {},
     "output_type": "execute_result"
    }
   ],
   "source": [
    "range(10), list(range(10))"
   ]
  },
  {
   "cell_type": "code",
   "execution_count": 72,
   "metadata": {},
   "outputs": [
    {
     "data": {
      "text/plain": "(range, list)"
     },
     "execution_count": 72,
     "metadata": {},
     "output_type": "execute_result"
    }
   ],
   "source": [
    "type(range(10)), type(list(range(10)))"
   ]
  },
  {
   "cell_type": "code",
   "execution_count": 77,
   "metadata": {},
   "outputs": [
    {
     "data": {
      "text/plain": "[10, 9, 8, 7, 6]"
     },
     "execution_count": 77,
     "metadata": {},
     "output_type": "execute_result"
    }
   ],
   "source": [
    "list(range(10, 5, -1))"
   ]
  },
  {
   "cell_type": "code",
   "execution_count": 68,
   "metadata": {},
   "outputs": [
    {
     "name": "stdout",
     "output_type": "stream",
     "text": [
      "init class Wizard\n",
      "545 210 10\n",
      "파이어볼\n"
     ]
    }
   ],
   "source": [
    "# 클래스\n",
    "\n",
    "class Wizard:\n",
    "    # 생성자\n",
    "    def __init__(self, health, mana, armor):\n",
    "        print('init class Wizard')\n",
    "        self.health = health\n",
    "        self.mana = mana\n",
    "        self.armor = armor\n",
    "    # 메소드\n",
    "    def attack(self):\n",
    "        print('파이어볼')\n",
    "    \n",
    "\n",
    "x = Wizard(health = 545, mana = 210, armor = 10)\n",
    "print(x.health, x.mana, x.armor)\n",
    "x.attack()\n"
   ]
  },
  {
   "cell_type": "code",
   "execution_count": 1,
   "metadata": {},
   "outputs": [
    {
     "name": "stdout",
     "output_type": "stream",
     "text": [
      "수성\n"
     ]
    }
   ],
   "source": [
    "#13\n",
    "\n",
    "solar = ['수성', '금성', '지구', '화성', '목성', '토성', '천왕성', '해왕성']\n",
    "\n",
    "n = int(input('숫자를 입력하세요 : '))\n",
    "\n",
    "print(solar[n-1])"
   ]
  },
  {
   "cell_type": "code",
   "execution_count": 4,
   "metadata": {},
   "outputs": [
    {
     "name": "stdout",
     "output_type": "stream",
     "text": [
      "짝\n"
     ]
    }
   ],
   "source": [
    "#14\n",
    "\n",
    "n = int(input('숫자를 입력하세요 : '))\n",
    "\n",
    "if n%3 == 0:\n",
    "    print('짝')\n",
    "else:\n",
    "    print(n)\n"
   ]
  },
  {
   "cell_type": "code",
   "execution_count": 14,
   "metadata": {},
   "outputs": [
    {
     "name": "stdout",
     "output_type": "stream",
     "text": [
      "안녕하세요 저는 권기록 입니다\n",
      "안녕하세요 저는 권기록 입니다\n",
      "안녕하세요 저는 권기록 입니다\n"
     ]
    }
   ],
   "source": [
    "#15 f-string\n",
    "\n",
    "name = input('이름을 입력하세요: ')\n",
    "\n",
    "print(f'안녕하세요 저는 {name} 입니다')\n",
    "print('안녕하세요 저는 {} 입니다'.format(name))\n",
    "print('안녕하세요 저는 %s 입니다' % name)\n"
   ]
  },
  {
   "cell_type": "code",
   "execution_count": 46,
   "metadata": {},
   "outputs": [
    {
     "name": "stdout",
     "output_type": "stream",
     "text": [
      "로꾸거\n"
     ]
    }
   ],
   "source": [
    "#16 \n",
    "\n",
    "# string = input('문장을 입력하세요 : ')\n",
    "\n",
    "s = '거꾸로'\n",
    "\n",
    "reverse= ''\n",
    "\n",
    "for i in s:\n",
    "    reverse = i + reverse\n",
    "    \n",
    "print(reverse)\n"
   ]
  },
  {
   "cell_type": "code",
   "execution_count": 47,
   "metadata": {},
   "outputs": [
    {
     "name": "stdout",
     "output_type": "stream",
     "text": [
      "로꾸거\n"
     ]
    }
   ],
   "source": [
    "#16\n",
    "\n",
    "s = '거꾸로'\n",
    "\n",
    "print(s[::-1])\n"
   ]
  },
  {
   "cell_type": "code",
   "execution_count": 2,
   "metadata": {},
   "outputs": [
    {
     "name": "stdout",
     "output_type": "stream",
     "text": [
      "NO\n"
     ]
    }
   ],
   "source": [
    "#17\n",
    "\n",
    "h = int(input('키?'))\n",
    "if h >= 150:\n",
    "    print('YES')\n",
    "else:\n",
    "    print('NO')\n",
    "    "
   ]
  },
  {
   "cell_type": "code",
   "execution_count": 25,
   "metadata": {},
   "outputs": [
    {
     "name": "stdout",
     "output_type": "stream",
     "text": [
      "['20', '30', '40']\n",
      "30.0\n"
     ]
    }
   ],
   "source": [
    "#18\n",
    "a = input('국어, 수학, 영어 : ').split(' ')\n",
    "avg = 0\n",
    "print(a)\n",
    "\n",
    "for i in a:\n",
    "    avg += int(i)\n",
    "    \n",
    "avg = avg/len(a)\n",
    "\n",
    "\n",
    "print(avg)"
   ]
  },
  {
   "cell_type": "code",
   "execution_count": 41,
   "metadata": {},
   "outputs": [
    {
     "name": "stdout",
     "output_type": "stream",
     "text": [
      "32\n"
     ]
    }
   ],
   "source": [
    "#19\n",
    "\n",
    "a, b = map(int, input().split())\n",
    "\n",
    "print(a**b)\n"
   ]
  },
  {
   "cell_type": "code",
   "execution_count": 44,
   "metadata": {},
   "outputs": [
    {
     "name": "stdout",
     "output_type": "stream",
     "text": [
      "5 0\n"
     ]
    }
   ],
   "source": [
    "a, b = map(int, input().split(' '))\n",
    "\n",
    "print(a//b, a%b)"
   ]
  },
  {
   "cell_type": "code",
   "execution_count": 56,
   "metadata": {},
   "outputs": [
    {
     "name": "stdout",
     "output_type": "stream",
     "text": [
      "<class 'set'> <class 'dict'> <class 'set'> <class 'set'> <class 'set'>\n"
     ]
    }
   ],
   "source": [
    "#21\n",
    "\n",
    "# set 은 순서가 없고 중복 허용 X\n",
    "\n",
    "set1 = {1, 2,3 ,4, 5}\n",
    "set2 = {} # dictionary\n",
    "set3 = set('python')\n",
    "set4 = set(range(5))\n",
    "\n",
    "print(type(set1), type(set2), type(set3), type(set4), type(set5))"
   ]
  },
  {
   "cell_type": "code",
   "execution_count": 62,
   "metadata": {},
   "outputs": [
    {
     "data": {
      "text/plain": "(False, True, False, False, False)"
     },
     "execution_count": 62,
     "metadata": {},
     "output_type": "execute_result"
    }
   ],
   "source": [
    "i=36\n",
    "\n",
    "i/6 ==0, i%6==0, i & 6 ==0, i|6==0, i//6 ==0\n",
    "\n",
    "\n"
   ]
  },
  {
   "cell_type": "code",
   "execution_count": 63,
   "metadata": {},
   "outputs": [
    {
     "name": "stdout",
     "output_type": "stream",
     "text": [
      "5.0\n"
     ]
    }
   ],
   "source": [
    "print(10/2)"
   ]
  },
  {
   "cell_type": "code",
   "execution_count": 69,
   "metadata": {},
   "outputs": [
    {
     "data": {
      "text/plain": "('ABC ABC ABC', 'abc abc abc', 'Abc abc abc', 'aBC abc AbC')"
     },
     "execution_count": 69,
     "metadata": {},
     "output_type": "execute_result"
    }
   ],
   "source": [
    "s = 'aBC abc AbC'\n",
    "\n",
    "# 기존 문자열을 변경하지 않는다\n",
    "s.upper(), s.lower(), s.capitalize(), s\n",
    "\n"
   ]
  },
  {
   "cell_type": "code",
   "execution_count": 71,
   "metadata": {},
   "outputs": [
    {
     "name": "stdout",
     "output_type": "stream",
     "text": [
      "153.86\n"
     ]
    }
   ],
   "source": [
    "r = int(input('정수 반지름을 입력하세요 : '))\n",
    "\n",
    "print(3.14 * r **2)"
   ]
  },
  {
   "cell_type": "code",
   "execution_count": 83,
   "metadata": {},
   "outputs": [
    {
     "data": {
      "text/plain": "'Earth'"
     },
     "execution_count": 83,
     "metadata": {},
     "output_type": "execute_result"
    }
   ],
   "source": [
    "solar = {'수성':'Mercury', '금성':'Venus', '지구':'Earth', '화성':'Mars', '목성':'Jupyter', '토성':'Saturn', '천왕성':'Uranus', '해왕성':'Neptune'}\n",
    "\n",
    "s = input('행성 이름을 입력하세요:')\n",
    "\n",
    "solar[s] "
   ]
  },
  {
   "cell_type": "code",
   "execution_count": 86,
   "metadata": {},
   "outputs": [
    {
     "ename": "ValueError",
     "evalue": "invalid literal for int() with base 10: ''",
     "output_type": "error",
     "traceback": [
      "\u001b[0;31m---------------------------------------------------------------------------\u001b[0m",
      "\u001b[0;31mValueError\u001b[0m                                Traceback (most recent call last)",
      "\u001b[0;32m<ipython-input-86-ed6104c5413a>\u001b[0m in \u001b[0;36m<module>\u001b[0;34m\u001b[0m\n\u001b[1;32m      1\u001b[0m \u001b[0;31m# map(콜백함수, 리스트)\u001b[0m\u001b[0;34m\u001b[0m\u001b[0;34m\u001b[0m\u001b[0;34m\u001b[0m\u001b[0m\n\u001b[0;32m----> 2\u001b[0;31m \u001b[0mstudent1\u001b[0m\u001b[0;34m,\u001b[0m \u001b[0mstudent2\u001b[0m \u001b[0;34m=\u001b[0m \u001b[0mmap\u001b[0m\u001b[0;34m(\u001b[0m\u001b[0mint\u001b[0m\u001b[0;34m,\u001b[0m \u001b[0minput\u001b[0m\u001b[0;34m(\u001b[0m\u001b[0;34m'학생의 이름을 입력하세요 : '\u001b[0m\u001b[0;34m)\u001b[0m\u001b[0;34m.\u001b[0m\u001b[0msplit\u001b[0m\u001b[0;34m(\u001b[0m\u001b[0;34m' '\u001b[0m\u001b[0;34m)\u001b[0m\u001b[0;34m)\u001b[0m\u001b[0;34m\u001b[0m\u001b[0;34m\u001b[0m\u001b[0m\n\u001b[0m\u001b[1;32m      3\u001b[0m \u001b[0mscore1\u001b[0m\u001b[0;34m,\u001b[0m \u001b[0mscore2\u001b[0m \u001b[0;34m=\u001b[0m \u001b[0mmap\u001b[0m\u001b[0;34m(\u001b[0m\u001b[0mint\u001b[0m\u001b[0;34m,\u001b[0m \u001b[0minput\u001b[0m\u001b[0;34m(\u001b[0m\u001b[0;34m'학생의 점수를 입력하세요 : '\u001b[0m\u001b[0;34m)\u001b[0m\u001b[0;34m.\u001b[0m\u001b[0msplit\u001b[0m\u001b[0;34m(\u001b[0m\u001b[0;34m' '\u001b[0m\u001b[0;34m)\u001b[0m\u001b[0;34m)\u001b[0m\u001b[0;34m\u001b[0m\u001b[0;34m\u001b[0m\u001b[0m\n\u001b[1;32m      4\u001b[0m \u001b[0;34m\u001b[0m\u001b[0m\n\u001b[1;32m      5\u001b[0m \u001b[0mprint\u001b[0m\u001b[0;34m(\u001b[0m\u001b[0;34m{\u001b[0m\u001b[0mstudent1\u001b[0m\u001b[0;34m:\u001b[0m\u001b[0mscore1\u001b[0m\u001b[0;34m,\u001b[0m \u001b[0mstudent2\u001b[0m\u001b[0;34m:\u001b[0m\u001b[0mscore2\u001b[0m\u001b[0;34m}\u001b[0m\u001b[0;34m)\u001b[0m\u001b[0;34m\u001b[0m\u001b[0;34m\u001b[0m\u001b[0m\n",
      "\u001b[0;31mValueError\u001b[0m: invalid literal for int() with base 10: ''"
     ]
    }
   ],
   "source": [
    "# map(콜백함수, 리스트)\n",
    "student1, student2 = map(int, input('학생의 이름을 입력하세요 : ').split(' '))\n",
    "score1, score2 = map(int, input('학생의 점수를 입력하세요 : ').split(' '))\n",
    "\n",
    "print({student1:score1, student2:score2})\n",
    "\n",
    "\n",
    "\n"
   ]
  }
 ],
 "metadata": {
  "kernelspec": {
   "display_name": "Python 3",
   "language": "python",
   "name": "python3"
  },
  "language_info": {
   "codemirror_mode": {
    "name": "ipython",
    "version": 3
   },
   "file_extension": ".py",
   "mimetype": "text/x-python",
   "name": "python",
   "nbconvert_exporter": "python",
   "pygments_lexer": "ipython3",
   "version": "3.9.1"
  },
  "orig_nbformat": 2
 },
 "nbformat": 4,
 "nbformat_minor": 2
}