{
 "cells": [
  {
   "cell_type": "markdown",
   "metadata": {},
   "source": [
    "# 문자열과 내장함수"
   ]
  },
  {
   "cell_type": "code",
   "execution_count": 14,
   "metadata": {},
   "outputs": [
    {
     "name": "stdout",
     "output_type": "stream",
     "text": [
      "<class 'str'> ['__add__', '__class__', '__contains__', '__delattr__', '__dir__', '__doc__', '__eq__', '__format__', '__ge__', '__getattribute__', '__getitem__', '__getnewargs__', '__gt__', '__hash__', '__init__', '__init_subclass__', '__iter__', '__le__', '__len__', '__lt__', '__mod__', '__mul__', '__ne__', '__new__', '__reduce__', '__reduce_ex__', '__repr__', '__rmod__', '__rmul__', '__setattr__', '__sizeof__', '__str__', '__subclasshook__', 'capitalize', 'casefold', 'center', 'count', 'encode', 'endswith', 'expandtabs', 'find', 'format', 'format_map', 'index', 'isalnum', 'isalpha', 'isascii', 'isdecimal', 'isdigit', 'isidentifier', 'islower', 'isnumeric', 'isprintable', 'isspace', 'istitle', 'isupper', 'join', 'ljust', 'lower', 'lstrip', 'maketrans', 'partition', 'removeprefix', 'removesuffix', 'replace', 'rfind', 'rindex', 'rjust', 'rpartition', 'rsplit', 'rstrip', 'split', 'splitlines', 'startswith', 'strip', 'swapcase', 'title', 'translate', 'upper', 'zfill']\n",
      "IT IS TIME\n",
      "it is time\n",
      "It is Time\n",
      "Capitalize\n",
      "capitalize\n",
      "IT IS TIME\n",
      "1\n",
      "2\n"
     ]
    }
   ],
   "source": [
    "# 문자열과 내장함수\n",
    "\n",
    "msg = \"It is Time\"\n",
    "print(type(msg),dir(msg))\n",
    "\n",
    "# upper, lower, capitalize\n",
    "print(msg.upper())\n",
    "print(msg.lower())\n",
    "print(msg) # upper, lower 메소느는 원본 문자열을 변형하지 않는다\n",
    "\n",
    "cap = \"capitalize\"\n",
    "print(cap.capitalize()) # \n",
    "print(cap.casefold())\n",
    "\n",
    "# find\n",
    "tmp = msg.upper()\n",
    "print(tmp)\n",
    "print(tmp.find('T')) # 문자열 내에서 전달된 인자와 같은 첫번째 문자를 찾아서 인덱스를 반환\n",
    "print(tmp.count('T')) # 몇개 있는지 반환\n",
    "\n"
   ]
  },
  {
   "cell_type": "markdown",
   "metadata": {},
   "source": []
  },
  {
   "cell_type": "code",
   "execution_count": 35,
   "metadata": {},
   "outputs": [
    {
     "name": "stdout",
     "output_type": "stream",
     "text": [
      "It is Time\n",
      "It\n",
      "is\n",
      "10\n",
      "It is Time\n",
      "It is Time\n",
      "I T \n",
      "t i s i m e \n",
      "I t i s T i m e \n"
     ]
    }
   ],
   "source": [
    "msg = \"It is Time\"\n",
    "\n",
    "# slice\n",
    "print(msg)\n",
    "print(msg[:2])\n",
    "print(msg[3:5])\n",
    "\n",
    "# len\n",
    "print(len(msg))\n",
    "\n",
    "# iterate\n",
    "for i in range(len(msg)):\n",
    "    print(msg[i], end='')\n",
    "print()\n",
    "\n",
    "for x in msg:\n",
    "    print(x, end='')\n",
    "print()\n",
    "\n",
    "\n",
    "# isupper, islower\n",
    "for x in msg:\n",
    "    if x.isupper(): # 대문자 확인\n",
    "        print(x, end=' ')\n",
    "print()\n",
    "\n",
    "for x in msg:\n",
    "    if x.islower(): # 대문자 확인\n",
    "        print(x, end=' ')       \n",
    "print()\n",
    "\n",
    "# 공백 제거\n",
    "for x in msg:\n",
    "    if x.isalpha():\n",
    "        print(x, end=' ')\n",
    "print()\n",
    "\n",
    "tmp =\"AZ\"\n",
    "\n"
   ]
  },
  {
   "cell_type": "code",
   "execution_count": null,
   "metadata": {},
   "outputs": [],
   "source": []
  }
 ],
 "metadata": {
  "kernelspec": {
   "display_name": "Python 2.7.16 64-bit",
   "metadata": {
    "interpreter": {
     "hash": "767d51c1340bd893661ea55ea3124f6de3c7a262a8b4abca0554b478b1e2ff90"
    }
   },
   "name": "python3"
  },
  "language_info": {
   "codemirror_mode": {
    "name": "ipython",
    "version": 3
   },
   "file_extension": ".py",
   "mimetype": "text/x-python",
   "name": "python",
   "nbconvert_exporter": "python",
   "pygments_lexer": "ipython3",
   "version": "3.9.1"
  },
  "orig_nbformat": 2
 },
 "nbformat": 4,
 "nbformat_minor": 2
}