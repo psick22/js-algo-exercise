{
 "cells": [
  {
   "cell_type": "markdown",
   "metadata": {},
   "source": [
    "# 문자열과 내장함수"
   ]
  },
  {
   "cell_type": "code",
   "execution_count": 14,
   "metadata": {},
   "outputs": [
    {
     "name": "stdout",
     "output_type": "stream",
     "text": [
      "<class 'str'> ['__add__', '__class__', '__contains__', '__delattr__', '__dir__', '__doc__', '__eq__', '__format__', '__ge__', '__getattribute__', '__getitem__', '__getnewargs__', '__gt__', '__hash__', '__init__', '__init_subclass__', '__iter__', '__le__', '__len__', '__lt__', '__mod__', '__mul__', '__ne__', '__new__', '__reduce__', '__reduce_ex__', '__repr__', '__rmod__', '__rmul__', '__setattr__', '__sizeof__', '__str__', '__subclasshook__', 'capitalize', 'casefold', 'center', 'count', 'encode', 'endswith', 'expandtabs', 'find', 'format', 'format_map', 'index', 'isalnum', 'isalpha', 'isascii', 'isdecimal', 'isdigit', 'isidentifier', 'islower', 'isnumeric', 'isprintable', 'isspace', 'istitle', 'isupper', 'join', 'ljust', 'lower', 'lstrip', 'maketrans', 'partition', 'removeprefix', 'removesuffix', 'replace', 'rfind', 'rindex', 'rjust', 'rpartition', 'rsplit', 'rstrip', 'split', 'splitlines', 'startswith', 'strip', 'swapcase', 'title', 'translate', 'upper', 'zfill']\n",
      "IT IS TIME\n",
      "it is time\n",
      "It is Time\n",
      "Capitalize\n",
      "capitalize\n",
      "IT IS TIME\n",
      "1\n",
      "2\n"
     ]
    }
   ],
   "source": [
    "# 문자열과 내장함수\n",
    "\n",
    "msg = \"It is Time\"\n",
    "print(type(msg),dir(msg))\n",
    "\n",
    "# upper, lower, capitalize\n",
    "print(msg.upper())\n",
    "print(msg.lower())\n",
    "print(msg) # upper, lower 메소느는 원본 문자열을 변형하지 않는다\n",
    "\n",
    "cap = \"capitalize\"\n",
    "print(cap.capitalize()) # \n",
    "print(cap.casefold())\n",
    "\n",
    "# find\n",
    "tmp = msg.upper()\n",
    "print(tmp)\n",
    "print(tmp.find('T')) # 문자열 내에서 전달된 인자와 같은 첫번째 문자를 찾아서 인덱스를 반환\n",
    "print(tmp.count('T')) # 몇개 있는지 반환\n",
    "\n"
   ]
  },
  {
   "cell_type": "markdown",
   "metadata": {},
   "source": []
  },
  {
   "cell_type": "code",
   "execution_count": 45,
   "metadata": {},
   "outputs": [
    {
     "name": "stdout",
     "output_type": "stream",
     "text": [
      "It is Time\n",
      "It\n",
      "is\n",
      "10\n",
      "It is Time\n",
      "It is Time\n",
      "I T \n",
      "t i s i m e \n",
      "I t i s T i m e \n",
      "65\n",
      "90\n",
      "97\n",
      "122\n",
      "A\n"
     ]
    }
   ],
   "source": [
    "msg = \"It is Time\"\n",
    "\n",
    "# slice\n",
    "print(msg)\n",
    "print(msg[:2])\n",
    "print(msg[3:5])\n",
    "\n",
    "# len\n",
    "print(len(msg))\n",
    "\n",
    "# iterate\n",
    "for i in range(len(msg)):\n",
    "    print(msg[i], end='')\n",
    "print()\n",
    "\n",
    "for x in msg:\n",
    "    print(x, end='')\n",
    "print()\n",
    "\n",
    "\n",
    "# isupper, islower\n",
    "for x in msg:\n",
    "    if x.isupper(): # 대문자 확인\n",
    "        print(x, end=' ')\n",
    "print()\n",
    "\n",
    "for x in msg:\n",
    "    if x.islower(): # 대문자 확인\n",
    "        print(x, end=' ')       \n",
    "print()\n",
    "\n",
    "# isalpha 공백 제거\n",
    "for x in msg:\n",
    "    if x.isalpha():\n",
    "        print(x, end=' ')\n",
    "print()\n",
    "\n",
    "# ord (아스키코드)\n",
    "tmp=\"AZaz\"\n",
    "for x in tmp:\n",
    "    print(ord(x))\n",
    "\n",
    "# chr (from 아스키 코드 to String)\n",
    "tmp = 65\n",
    "print(chr(tmp))\n"
   ]
  },
  {
   "cell_type": "markdown",
   "metadata": {},
   "source": [
    "# 리스트와 내장함수"
   ]
  },
  {
   "cell_type": "code",
   "execution_count": 55,
   "metadata": {},
   "outputs": [
    {
     "name": "stdout",
     "output_type": "stream",
     "text": [
      "[1, 2, 3, 4, 5, 6, 7, 8, 9, 10]\n",
      "range(1, 11)\n",
      "<class 'list'> <class 'range'>\n",
      "[1, 2, 3, 4, 5, 6, 7, 8, 9, 10, 1, 2, 3, 4, 5]\n"
     ]
    }
   ],
   "source": [
    "a = list(range(1, 11)) # range로 list 만들 수 있음  \n",
    "print(a)\n",
    "b= range(1, 11)\n",
    "print(b)\n",
    "c = [1, 2, 3, 4, 5]\n",
    "print(type(a), type(b))\n",
    "\n",
    "d = a + c # concat\n",
    "print(d)"
   ]
  },
  {
   "cell_type": "code",
   "execution_count": 69,
   "metadata": {},
   "outputs": [
    {
     "name": "stdout",
     "output_type": "stream",
     "text": [
      "[1, 2, 3, 4, 5]\n",
      "[1, 2, 3, 4, 5, 6]\n",
      "[0, 1, 2, 3, 4, 5, 6]\n",
      "[0, 1, 2, 3, 4, 5] 6\n",
      "[1, 2, 3, 4, 5] 0\n",
      "[1, 2, 3, 4, 5, 4]\n",
      "[1, 2, 3, 5, 4] 0\n",
      "3\n"
     ]
    },
    {
     "data": {
      "text/plain": "3"
     },
     "execution_count": 69,
     "metadata": {},
     "output_type": "execute_result"
    }
   ],
   "source": [
    "a = [1, 2, 3, 4, 5]\n",
    "\n",
    "print(a)\n",
    "\n",
    "a.append(6) # 맨 뒤에 value 삽입\n",
    "print(a)\n",
    "\n",
    "a.insert(0, 0) # index, value를 전달하고 index에 value를 삽입\n",
    "print(a)\n",
    "\n",
    "b=a.pop() # 맨 뒤 요소를 추출해서 반환하고 원본 배열을 변경\n",
    "print(a, b)\n",
    "\n",
    "b=a.pop(0) # index를 전달해서 해당 인덱스의 밸류를 추출하여 반환하고 원본 배열을 변경\n",
    "print(a, b)\n",
    "\n",
    "a.append(4)\n",
    "print(a)\n",
    "a.remove(4) # value를 전달해서 처음 발견한 값을 제거\n",
    "print(a, b)\n",
    "\n",
    "print(a.index(5)) # value를 전달해서 해당 값을 가지는 첫번째 인덱스 번호를 반환\n",
    "a.append(5)\n",
    "a.index(5)\n",
    "\n"
   ]
  },
  {
   "cell_type": "code",
   "execution_count": 80,
   "metadata": {},
   "outputs": [
    {
     "name": "stdout",
     "output_type": "stream",
     "text": [
      "[1, 2, 3, 4, 5, 6, 7, 8, 9, 10]\n",
      "55\n",
      "10\n",
      "1\n",
      "-1\n",
      "100\n"
     ]
    }
   ],
   "source": [
    "a = list(range(1, 11))\n",
    "print(a)\n",
    "\n",
    "print(sum(a)) # 모든 요소의 합\n",
    "print(max(a)) # 최대값\n",
    "print(min(a)) # 최소값\n",
    "\n",
    "print(min(-1, 7, 5))\n",
    "print(max(1, 2, 3, 4, 5, 100))\n"
   ]
  },
  {
   "cell_type": "code",
   "execution_count": 87,
   "metadata": {},
   "outputs": [
    {
     "name": "stdout",
     "output_type": "stream",
     "text": [
      "[4, 1, 7, 8, 10, 3, 6, 2, 9, 5]\n",
      "[1, 2, 3, 4, 5, 6, 7, 8, 9, 10]\n",
      "[10, 9, 8, 7, 6, 5, 4, 3, 2, 1]\n",
      "[]\n"
     ]
    }
   ],
   "source": [
    "import random as r\n",
    "a= list(range(1, 11))\n",
    "r.shuffle(a)\n",
    "print(a)\n",
    "\n",
    "# sort 오름차순 정렬\n",
    "a.sort()\n",
    "print(a)\n",
    "\n",
    "# sort 내림차순 정렬\n",
    "a.sort(reverse=True) \n",
    "print(a)\n",
    "\n",
    "# clear\n",
    "a.clear()\n",
    "print(a)\n"
   ]
  },
  {
   "cell_type": "code",
   "execution_count": null,
   "metadata": {},
   "outputs": [
    {
     "name": "stdout",
     "output_type": "stream",
     "text": [
      "[23, 12, 36]\n",
      "[12, 36, 53]\n",
      "5\n",
      "0 23\n",
      "1 12\n",
      "2 36\n",
      "3 53\n",
      "4 19\n",
      "\n",
      "23 12 36 53 19 \n",
      "(0, 23)\n",
      "(1, 12)\n",
      "(2, 36)\n",
      "(3, 53)\n",
      "(4, 19)\n",
      "\n",
      "1\n",
      "0 23\n",
      "1 12\n",
      "2 36\n",
      "3 53\n",
      "4 19\n",
      "\n",
      "0 23\n",
      "1 12\n",
      "2 36\n",
      "3 53\n",
      "4 19\n",
      "\n",
      "No\n",
      "15보다 작은 값이 적어도 하나 존재한다\n"
     ]
    }
   ],
   "source": [
    "a = [23, 12, 36, 53, 19]\n",
    "print(a[:3]) # == a[0:3] (0 <= i < 3)\n",
    "print(a[1:4]) # (1 <= i < 4)\n",
    "print(len(a))\n",
    "\n",
    "for i in range(len(a)):\n",
    "    print(i,a[i])\n",
    "print()\n",
    "\n",
    "for x in a:\n",
    "    print(x, end=' ')\n",
    "print()\n",
    "\n",
    "# enumerate\n",
    "for x in enumerate(a):\n",
    "    print(x) # x에 (index, value) tuple을 반환\n",
    "    \n",
    "print()\n",
    "\n",
    "# tuple -> 수정 불가능, 중복 불가능\n",
    "b = (1, 2, 3, 4, 5)\n",
    "print(b[0])\n",
    "\n",
    "for x in enumerate(a):\n",
    "    print(x[0], x[1])\n",
    "print()\n",
    "\n",
    "for index, value in enumerate(a):\n",
    "    print(index, value)\n",
    "print()\n",
    "\n",
    "# all, any\n",
    "# all : 배열을 돌면서 모든 값이 조건을 만족하면 True 를 반환\n",
    "# any : 배열을 돌면서 하나라도 하나의 값이라도 조건을 만족하면 True 반환\n",
    "\n",
    "if all(50 > x for x in a):\n",
    "    print('모든 값이 60보다 작다')\n",
    "else:\n",
    "    print('No')\n",
    "    \n",
    "if any(15 > x for x in a):\n",
    "    print('15보다 작은 값이 적어도 하나 존재한다')\n",
    "else:\n",
    "    print('No')"
   ]
  },
  {
   "cell_type": "code",
   "execution_count": null,
   "metadata": {},
   "outputs": [],
   "source": []
  }
 ],
 "metadata": {
  "kernelspec": {
   "display_name": "Python 2.7.16 64-bit",
   "metadata": {
    "interpreter": {
     "hash": "767d51c1340bd893661ea55ea3124f6de3c7a262a8b4abca0554b478b1e2ff90"
    }
   },
   "name": "python3"
  },
  "language_info": {
   "codemirror_mode": {
    "name": "ipython",
    "version": 3
   },
   "file_extension": ".py",
   "mimetype": "text/x-python",
   "name": "python",
   "nbconvert_exporter": "python",
   "pygments_lexer": "ipython3",
   "version": "3.9.1"
  },
  "orig_nbformat": 2
 },
 "nbformat": 4,
 "nbformat_minor": 2
}